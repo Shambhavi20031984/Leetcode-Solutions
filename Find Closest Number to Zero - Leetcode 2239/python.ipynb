def ClosestNumber(num):
    Closest = num[0]  # Initialize the closest number to the first element
    for x in num:  # Iterate over the elements of the list
        if abs(x) < abs(Closest):  # Compare absolute values
            Closest = x
        elif abs(x) == abs(Closest) and x > Closest:  # If equal, choose the positive number
            Closest = x
    return Closest  # Return the closest number, not an index

num = []
n = int(input("Enter the number of elements in the list: "))
for m in range(n):
    ele = int(input())  # Input each element
    num.append(ele)

print("The list is", num)  # Print the list to verify inputs
print("The closest number to zero is", ClosestNumber(num))  # Pass the whole list
